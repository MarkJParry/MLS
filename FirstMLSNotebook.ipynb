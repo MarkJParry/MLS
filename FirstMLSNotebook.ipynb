{
 "cells": [
  {
   "cell_type": "code",
   "execution_count": null,
   "id": "496e2d73-e022-418c-b717-bb22ffbfd5cb",
   "metadata": {},
   "outputs": [],
   "source": [
    "#comment python code\n",
    "i = 2\n",
    "j = 3\n",
    "k = i * j\n",
    "print (\"answer\",k)"
   ]
  },
  {
   "cell_type": "markdown",
   "id": "78e5f61c-0382-4946-952c-59d99405fc49",
   "metadata": {},
   "source": [
    "##title\n"
   ]
  },
  {
   "cell_type": "code",
   "execution_count": null,
   "id": "de505939-9c61-4a17-8f37-8084c63b61c1",
   "metadata": {},
   "outputs": [],
   "source": []
  }
 ],
 "metadata": {
  "kernelspec": {
   "display_name": "Python 3",
   "language": "python",
   "name": "python3"
  },
  "language_info": {
   "codemirror_mode": {
    "name": "ipython",
    "version": 3
   },
   "file_extension": ".py",
   "mimetype": "text/x-python",
   "name": "python",
   "nbconvert_exporter": "python",
   "pygments_lexer": "ipython3",
   "version": "3.8.8"
  }
 },
 "nbformat": 4,
 "nbformat_minor": 5
}

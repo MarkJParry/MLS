{
 "cells": [
  {
   "cell_type": "markdown",
   "id": "9c9c2e6b-7346-481c-8ded-a5f00d3dabc3",
   "metadata": {},
   "source": [
    "# Scipy-Stats Notebook"
   ]
  },
  {
   "cell_type": "markdown",
   "id": "824b1d47-3f23-459c-b60c-85c6608217f4",
   "metadata": {},
   "source": [
    "## Overview"
   ]
  },
  {
   "cell_type": "markdown",
   "id": "e5ed30ac-6e59-4e9f-bb83-54d6a90723fe",
   "metadata": {},
   "source": [
    "## References"
   ]
  },
  {
   "cell_type": "markdown",
   "id": "6c03d7b8-1dd6-4a63-be79-42705b1b0c3c",
   "metadata": {},
   "source": [
    "## End"
   ]
  },
  {
   "cell_type": "markdown",
   "id": "d0e11d1c-f76f-4612-91e8-24d7f591c37c",
   "metadata": {},
   "source": []
  }
 ],
 "metadata": {
  "kernelspec": {
   "display_name": "Python 3",
   "language": "python",
   "name": "python3"
  },
  "language_info": {
   "codemirror_mode": {
    "name": "ipython",
    "version": 3
   },
   "file_extension": ".py",
   "mimetype": "text/x-python",
   "name": "python",
   "nbconvert_exporter": "python",
   "pygments_lexer": "ipython3",
   "version": "3.8.8"
  }
 },
 "nbformat": 4,
 "nbformat_minor": 5
}

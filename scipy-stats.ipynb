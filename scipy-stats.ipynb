{
 "cells": [
  {
   "cell_type": "markdown",
   "id": "9c9c2e6b-7346-481c-8ded-a5f00d3dabc3",
   "metadata": {},
   "source": [
    "# Scipy-Stats Notebook"
   ]
  },
  {
   "cell_type": "markdown",
   "id": "824b1d47-3f23-459c-b60c-85c6608217f4",
   "metadata": {},
   "source": [
    "## Overview\n",
    "\n",
    "https://docs.scipy.org/doc/scipy/reference/stats.html\n",
    "\n",
    "A clear and concise overview of scipy.stats library\n",
    "\n",
    "This module contains a large number of probability distributions, summary and frequency statistics, correlation functions and statistical tests, masked statistics, kernel density estimation, quasi-Monte Carlo functionality, and more.[1]\n",
    "\n",
    "### Probabilty Distributions\n",
    "#### Continuous\n",
    "#### Multivariate\n",
    "#### Discrete\n",
    "### Summary Statistics\n",
    "### Frequency Statistics\n",
    "### Correlation Functions\n",
    "### Statisical Tests\n",
    "### Others\n",
    "\n",
    "\n",
    "\n",
    "\n",
    "***"
   ]
  },
  {
   "cell_type": "markdown",
   "id": "31d77bf0-0d10-45c9-aeaa-5c3cc80da382",
   "metadata": {},
   "source": [
    "## Example hypothesis test using ANOVA\n",
    "Find an appropriate data set for ANOVA, ensure the underlying assumptions are met, perform and display results\n",
    "### Dataset\n",
    "\n",
    "canadian asthma dataset in my pda repo\n",
    "\n",
    "### Assumptions\n",
    " - Dependant Variable is continuous\n",
    " - Independant variable consists of two or more categorical groups\n",
    " - Indepence i.e. a participant cannot be in more than one group as in men/women\n",
    " - No significant outliers\n",
    " - Dependant variable should be approximately normally distributed for each category of independant variable\n",
    " - homogeneity of variances - levenes test\n",
    "\n",
    "\n",
    "### Perform ANOVA\n",
    "### Results\n",
    "### Plots and visualisations\n",
    "*** "
   ]
  },
  {
   "cell_type": "markdown",
   "id": "e5ed30ac-6e59-4e9f-bb83-54d6a90723fe",
   "metadata": {},
   "source": [
    "## References\n",
    "***"
   ]
  },
  {
   "cell_type": "markdown",
   "id": "6c03d7b8-1dd6-4a63-be79-42705b1b0c3c",
   "metadata": {},
   "source": [
    "## End\n",
    "***"
   ]
  },
  {
   "cell_type": "markdown",
   "id": "d0e11d1c-f76f-4612-91e8-24d7f591c37c",
   "metadata": {},
   "source": []
  }
 ],
 "metadata": {
  "kernelspec": {
   "display_name": "Python 3",
   "language": "python",
   "name": "python3"
  },
  "language_info": {
   "codemirror_mode": {
    "name": "ipython",
    "version": 3
   },
   "file_extension": ".py",
   "mimetype": "text/x-python",
   "name": "python",
   "nbconvert_exporter": "python",
   "pygments_lexer": "ipython3",
   "version": "3.8.8"
  }
 },
 "nbformat": 4,
 "nbformat_minor": 5
}
